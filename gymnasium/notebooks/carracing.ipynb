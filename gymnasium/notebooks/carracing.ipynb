{
 "cells": [
  {
   "cell_type": "code",
   "execution_count": null,
   "id": "ad26e5f2",
   "metadata": {},
   "outputs": [],
   "source": [
    "import sys\n",
    "import os\n",
    "\n",
    "notebook_dir = os.path.dirname(os.path.abspath('__file__'))\n",
    "project_root = os.path.dirname(notebook_dir)\n",
    "sys.path.append(project_root)"
   ]
  },
  {
   "cell_type": "code",
   "execution_count": null,
   "id": "21d1792f",
   "metadata": {},
   "outputs": [],
   "source": [
    "from collections import deque\n",
    "\n",
    "import gymnasium as gym\n",
    "import matplotlib.pyplot as plt\n",
    "import torch\n",
    "\n",
    "from utils.preprocessing import PreProcessor"
   ]
  },
  {
   "cell_type": "code",
   "execution_count": null,
   "id": "9e629ffc",
   "metadata": {},
   "outputs": [],
   "source": [
    "device = torch.device(\"cuda\" if torch.cuda.is_available() else \"cpu\")\n",
    "print(device)"
   ]
  },
  {
   "cell_type": "code",
   "execution_count": null,
   "id": "247aa53c",
   "metadata": {},
   "outputs": [],
   "source": [
    "env = gym.make('CarRacing-v3', render_mode='rgb_array', lap_complete_percent=0.95, domain_randomize=True, continuous=False)\n",
    "state, _ = env.reset()\n",
    "\n",
    "states_queue = deque(maxlen=3)\n",
    "\n",
    "for step in range(200):\n",
    "    action = env.action_space.sample()\n",
    "    state, _, _, _, _ = env.step(0 if step < 100 else 3)\n",
    "    states_queue.append(state)\n",
    "preprocessor = PreProcessor(device=device)\n",
    "state_tensor = preprocessor.process(states_deque=states_queue)\n",
    "state_tensor = state_tensor.permute(1, 2, 0)\n",
    "\n",
    "n = len(states_queue)\n",
    "fig, axes = plt.subplots(2, n, figsize=(3 * n, 6))\n",
    "\n",
    "for i in range(n):\n",
    "    axes[0, i].imshow(states_queue[i])\n",
    "    axes[0, i].set_title(f'RGB State {i+1}')\n",
    "    axes[0, i].axis('off')\n",
    "\n",
    "for i in range(n):\n",
    "    axes[1, i].imshow(torch.Tensor.cpu(state_tensor[:, :, i]), cmap='gray')\n",
    "    axes[1, i].set_title(f'Grayscale {i+1}')\n",
    "    axes[1, i].axis('off')\n",
    "\n",
    "plt.tight_layout()\n",
    "plt.show()\n",
    "\n",
    "env.close()"
   ]
  }
 ],
 "metadata": {
  "kernelspec": {
   "display_name": "rl-env",
   "language": "python",
   "name": "python3"
  },
  "language_info": {
   "codemirror_mode": {
    "name": "ipython",
    "version": 3
   },
   "file_extension": ".py",
   "mimetype": "text/x-python",
   "name": "python",
   "nbconvert_exporter": "python",
   "pygments_lexer": "ipython3",
   "version": "3.11.9"
  }
 },
 "nbformat": 4,
 "nbformat_minor": 5
}
